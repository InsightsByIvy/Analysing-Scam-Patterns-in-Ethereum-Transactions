{
 "cells": [
  {
   "cell_type": "markdown",
   "id": "b280d324",
   "metadata": {},
   "source": [
    "In this section, I will be using Feature Engineering to create ratio-based behavioral feature, as these are highly effective in Ethereum scam detection."
   ]
  },
  {
   "cell_type": "code",
   "execution_count": 1,
   "id": "2276b26d",
   "metadata": {},
   "outputs": [],
   "source": [
    "import pandas as pd\n",
    "import numpy as np"
   ]
  },
  {
   "cell_type": "code",
   "execution_count": 2,
   "id": "73f51677",
   "metadata": {},
   "outputs": [],
   "source": [
    "df = pd.read_csv('../Data/Clean/clean_ethereum_data.csv')"
   ]
  },
  {
   "cell_type": "code",
   "execution_count": 3,
   "id": "6f4b99f3",
   "metadata": {},
   "outputs": [],
   "source": [
    "#creating new columns for sent and received transactions and avoiding division by zero\n",
    "df['sent_received_ratio'] = df['sent_tnx'] / (df['received_tnx'] + 1e-5)"
   ]
  },
  {
   "cell_type": "markdown",
   "id": "73ee450b",
   "metadata": {},
   "source": [
    "Creating a histogram to plot check the distribution"
   ]
  }
 ],
 "metadata": {
  "kernelspec": {
   "display_name": ".venv",
   "language": "python",
   "name": "python3"
  },
  "language_info": {
   "codemirror_mode": {
    "name": "ipython",
    "version": 3
   },
   "file_extension": ".py",
   "mimetype": "text/x-python",
   "name": "python",
   "nbconvert_exporter": "python",
   "pygments_lexer": "ipython3",
   "version": "3.12.8"
  }
 },
 "nbformat": 4,
 "nbformat_minor": 5
}

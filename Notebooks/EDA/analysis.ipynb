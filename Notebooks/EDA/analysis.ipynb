{
 "cells": [
  {
   "cell_type": "markdown",
   "id": "57709e7a",
   "metadata": {},
   "source": [
    "## Section 1: Overview Metrics\n",
    "\n",
    "This section provides a statistical overview of wallet activity in the dataset, including Ether movement, transaction volume, and scam frequency.\n",
    "\n",
    " * How many unique addresses are in the dataset\n",
    " * What percentage are flagged as scams\n",
    " * How many total transactions are represented"
   ]
  },
  {
   "cell_type": "code",
   "execution_count": 19,
   "id": "88eeab60",
   "metadata": {},
   "outputs": [],
   "source": [
    "import pandas as pd\n",
    "import numpy as np\n",
    "import seaborn as sns\n",
    "import matplotlib.pyplot as plt\n",
    "import matplotlib.ticker as ticker"
   ]
  },
  {
   "cell_type": "code",
   "execution_count": 2,
   "id": "ef4c7bcd",
   "metadata": {},
   "outputs": [],
   "source": [
    "df = pd.read_csv('../Data/Features/feature_ethereum_data_with_ratios.csv')"
   ]
  },
  {
   "cell_type": "code",
   "execution_count": 22,
   "id": "a5c0ca9b",
   "metadata": {},
   "outputs": [
    {
     "name": "stdout",
     "output_type": "stream",
     "text": [
      "total_ether_sent stats:\n",
      "count    9.841000e+03\n",
      "mean     1.016092e+04\n",
      "std      3.583227e+05\n",
      "min      0.000000e+00\n",
      "25%      2.262059e-01\n",
      "50%      1.248680e+01\n",
      "75%      1.009990e+02\n",
      "max      2.858096e+07\n",
      "Name: total_ether_sent, dtype: float64\n",
      "\n",
      "total_ether_received stats:\n",
      "count    9.841000e+03\n",
      "mean     1.163832e+04\n",
      "std      3.642048e+05\n",
      "min      0.000000e+00\n",
      "25%      2.670424e+00\n",
      "50%      3.052963e+01\n",
      "75%      1.010000e+02\n",
      "max      2.858159e+07\n",
      "Name: total_ether_received, dtype: float64\n"
     ]
    }
   ],
   "source": [
    "print(\"total_ether_sent stats:\")\n",
    "print(df['total_ether_sent'].describe())\n",
    "\n",
    "print(\"\\ntotal_ether_received stats:\")\n",
    "print(df['total_ether_received'].describe())\n"
   ]
  },
  {
   "cell_type": "markdown",
   "id": "bd0eb910",
   "metadata": {},
   "source": [
    "### Notes on Ether Amounts\n",
    "\n",
    "- The values in **`total_ether_sent`** and **`total_ether_received`** columns are already in **ETH**.\n",
    "- No conversion from wei was necessary.\n",
    "- This conclusion is based on the observed value ranges and statistics."
   ]
  },
  {
   "cell_type": "code",
   "execution_count": 3,
   "id": "1f521bb6",
   "metadata": {},
   "outputs": [
    {
     "name": "stdout",
     "output_type": "stream",
     "text": [
      "Number of unique addresses: 9816\n"
     ]
    }
   ],
   "source": [
    "num_addresses = df['address'].nunique()\n",
    "print(f\"Number of unique addresses: {num_addresses}\")"
   ]
  },
  {
   "cell_type": "code",
   "execution_count": null,
   "id": "cebdc916",
   "metadata": {},
   "outputs": [
    {
     "name": "stdout",
     "output_type": "stream",
     "text": [
      "Number of scams: 2179\n",
      "Number of non-scams: 7637\n",
      "Percentage of scams: 22.20%\n"
     ]
    }
   ],
   "source": [
    "num_scams = df['flag'].sum()\n",
    "print(f\"Number of scams: {num_scams}\")\n",
    "num_non_scams = num_addresses - num_scams\n",
    "print(f\"Number of non-scams: {num_non_scams}\")\n",
    "scam_percentage = num_scams / num_addresses * 100\n",
    "print(f\"Percentage of scams: {scam_percentage:.2f}%\")"
   ]
  },
  {
   "cell_type": "code",
   "execution_count": 38,
   "id": "86f48feb",
   "metadata": {},
   "outputs": [
    {
     "data": {
      "text/html": [
       "<div>\n",
       "<style scoped>\n",
       "    .dataframe tbody tr th:only-of-type {\n",
       "        vertical-align: middle;\n",
       "    }\n",
       "\n",
       "    .dataframe tbody tr th {\n",
       "        vertical-align: top;\n",
       "    }\n",
       "\n",
       "    .dataframe thead th {\n",
       "        text-align: right;\n",
       "    }\n",
       "</style>\n",
       "<table border=\"1\" class=\"dataframe\">\n",
       "  <thead>\n",
       "    <tr style=\"text-align: right;\">\n",
       "      <th></th>\n",
       "      <th>avg_tx_size</th>\n",
       "      <th>tx_count</th>\n",
       "      <th>total_ether_sent</th>\n",
       "    </tr>\n",
       "    <tr>\n",
       "      <th>flag</th>\n",
       "      <th></th>\n",
       "      <th></th>\n",
       "      <th></th>\n",
       "    </tr>\n",
       "  </thead>\n",
       "  <tbody>\n",
       "    <tr>\n",
       "      <th>0</th>\n",
       "      <td>4.979945</td>\n",
       "      <td>10.0</td>\n",
       "      <td>34.062257</td>\n",
       "    </tr>\n",
       "    <tr>\n",
       "      <th>1</th>\n",
       "      <td>2.122070</td>\n",
       "      <td>5.0</td>\n",
       "      <td>0.999139</td>\n",
       "    </tr>\n",
       "  </tbody>\n",
       "</table>\n",
       "</div>"
      ],
      "text/plain": [
       "      avg_tx_size  tx_count  total_ether_sent\n",
       "flag                                         \n",
       "0        4.979945      10.0         34.062257\n",
       "1        2.122070       5.0          0.999139"
      ]
     },
     "execution_count": 38,
     "metadata": {},
     "output_type": "execute_result"
    }
   ],
   "source": [
    "#Creating Average Transaction Size column \n",
    "df[\"avg_tx_size\"] = df[\"total_ether_sent\"] / df[\"sent_tnx\"]\n",
    "\n",
    "# Use groupby to see how different the distributions are for scam vs non-scam addresses\n",
    "df.groupby('flag')[['avg_tx_size', 'tx_count', 'total_ether_sent']].median()"
   ]
  },
  {
   "cell_type": "code",
   "execution_count": 34,
   "id": "d34ec8aa",
   "metadata": {},
   "outputs": [
    {
     "data": {
      "text/html": [
       "<div>\n",
       "<style scoped>\n",
       "    .dataframe tbody tr th:only-of-type {\n",
       "        vertical-align: middle;\n",
       "    }\n",
       "\n",
       "    .dataframe tbody tr th {\n",
       "        vertical-align: top;\n",
       "    }\n",
       "\n",
       "    .dataframe thead th {\n",
       "        text-align: right;\n",
       "    }\n",
       "</style>\n",
       "<table border=\"1\" class=\"dataframe\">\n",
       "  <thead>\n",
       "    <tr style=\"text-align: right;\">\n",
       "      <th></th>\n",
       "      <th>count</th>\n",
       "      <th>mean</th>\n",
       "      <th>std</th>\n",
       "      <th>min</th>\n",
       "      <th>25%</th>\n",
       "      <th>50%</th>\n",
       "      <th>75%</th>\n",
       "      <th>max</th>\n",
       "    </tr>\n",
       "    <tr>\n",
       "      <th>flag</th>\n",
       "      <th></th>\n",
       "      <th></th>\n",
       "      <th></th>\n",
       "      <th></th>\n",
       "      <th></th>\n",
       "      <th></th>\n",
       "      <th></th>\n",
       "      <th></th>\n",
       "    </tr>\n",
       "  </thead>\n",
       "  <tbody>\n",
       "    <tr>\n",
       "      <th>0</th>\n",
       "      <td>7662.0</td>\n",
       "      <td>0.464862</td>\n",
       "      <td>0.254824</td>\n",
       "      <td>0.0</td>\n",
       "      <td>0.396871</td>\n",
       "      <td>0.499999</td>\n",
       "      <td>0.625000</td>\n",
       "      <td>1.000000</td>\n",
       "    </tr>\n",
       "    <tr>\n",
       "      <th>1</th>\n",
       "      <td>2179.0</td>\n",
       "      <td>0.209879</td>\n",
       "      <td>0.237760</td>\n",
       "      <td>0.0</td>\n",
       "      <td>0.000000</td>\n",
       "      <td>0.111111</td>\n",
       "      <td>0.399999</td>\n",
       "      <td>0.999995</td>\n",
       "    </tr>\n",
       "  </tbody>\n",
       "</table>\n",
       "</div>"
      ],
      "text/plain": [
       "       count      mean       std  min       25%       50%       75%       max\n",
       "flag                                                                         \n",
       "0     7662.0  0.464862  0.254824  0.0  0.396871  0.499999  0.625000  1.000000\n",
       "1     2179.0  0.209879  0.237760  0.0  0.000000  0.111111  0.399999  0.999995"
      ]
     },
     "execution_count": 34,
     "metadata": {},
     "output_type": "execute_result"
    }
   ],
   "source": [
    "# Breaking down means/medians by scam vs non-scam groups\n",
    "df['sent_ratio'] = df['sent_tnx'] / (df['sent_tnx'] + df['received_tnx'] + 1e-5)\n",
    "df.groupby('flag')['sent_ratio'].describe()"
   ]
  },
  {
   "cell_type": "markdown",
   "id": "d925763d",
   "metadata": {},
   "source": [
    "### Summary for Overview Metrics\n",
    "\n",
    "- **Unique Addresses:** The dataset includes 9,816 unique Ethereum addresses.\n",
    "- **Scam Flags:** Around 22.2% of these addresses are flagged as scams (`flag = 1`), while the remaining 77.8% are non-scams (`flag = 0`).\n",
    "- **Transaction Volume:** Transaction values are already expressed in ETH — no conversion from Wei is necessary.\n",
    "\n",
    "- **Activity Profile:**\n",
    "  - **Transaction Counts:** Scam addresses tend to have more transactions on average, but there's high variability within each group.\n",
    "  - **Average Transaction Size:** Scam addresses often show larger average transaction sizes compared to non-scams, though outliers are present in both.\n",
    "  - **Sent Ratio:** Scam addresses are more likely to act as **senders**, with higher `sent_tnx` proportions relative to their total transaction activity.\n",
    "- **Outlier Awareness:** Due to extreme variation in wallet behavior (some moving millions of ETH), medians and log-scaled plots are used to better understand typical behaviours.\n",
    "\n",
    "These foundational metrics provide useful context for identifying unusual wallet behaviour and help inform later stages like clustering and anomaly detection.\n",
    "\n",
    "---\n",
    "\n",
    "<br><br>"
   ]
  },
  {
   "cell_type": "markdown",
   "id": "4f0551d9",
   "metadata": {},
   "source": [
    "## Section 2: User Segmentation\n",
    " * What % of wallets are sender-only, receiver-only, or both\n",
    " * How does this differ between scam and non-scam addresses\n"
   ]
  },
  {
   "cell_type": "code",
   "execution_count": 9,
   "id": "3fd09734",
   "metadata": {},
   "outputs": [],
   "source": [
    "senders = set(df[df['sent_tnx'] > 0]['address'])\n",
    "receivers = set(df[df['received_tnx'] > 0]['address'])\n",
    "\n",
    "sender_only = senders - receivers\n",
    "receiver_only = receivers - senders\n",
    "both = senders & receivers\n",
    "\n",
    "segmentation = {\n",
    "    'Sender Only': len(sender_only),\n",
    "    'Receiver Only': len(receiver_only),\n",
    "    'Both': len(both)\n",
    "}"
   ]
  },
  {
   "cell_type": "markdown",
   "id": "9571925b",
   "metadata": {},
   "source": [
    "### Summary of User Segmentation by Transaction Type:\n",
    "\n",
    "Addresses are categorized based on their transaction activity:\n",
    "\n",
    "- **Sender Only:** Addresses that have only sent transactions.\n",
    "- **Receiver Only:** Addresses that have only received transactions.\n",
    "- **Both:** Addresses that have both sent and received transactions.\n",
    "\n",
    "Understanding these categories helps identify behavioral differences between scam and non-scam addresses.\n",
    "\n",
    "---\n",
    "\n",
    "<br><br>"
   ]
  },
  {
   "cell_type": "markdown",
   "id": "9ee147ca",
   "metadata": {},
   "source": [
    "## Section 3: Distribution of Average Transaction Sizes\n",
    " * What is the distribution of average transaction size per address\n",
    " * How does it differ for scam vs. non-scam addresses\n",
    "\n",
    "Due to extreme outliers, `log_scale=True` will be used to handle skewed data. "
   ]
  },
  {
   "cell_type": "code",
   "execution_count": 24,
   "id": "f7714a0b",
   "metadata": {},
   "outputs": [
    {
     "data": {
      "image/png": "[encoded data removed]",
      "text/plain": [
       "<Figure size 640x480 with 1 Axes>"
      ]
     },
     "metadata": {},
     "output_type": "display_data"
    }
   ],
   "source": [
    "df['total_value'] = df['total_ether_sent'] + df['total_ether_received']\n",
    "df['tx_count'] = df['sent_tnx'] + df['received_tnx']\n",
    "df['avg_tx_size'] = df['total_value'] / (df['tx_count'] + 1e-5)\n",
    "\n",
    "# Plot\n",
    "fig, ax = plt.subplots()\n",
    "sns.histplot(\n",
    "    data=df[df['avg_tx_size'].notna() & df['flag'].notna()],\n",
    "    x='avg_tx_size',\n",
    "    hue='flag',\n",
    "    bins=50,\n",
    "    log_scale=True,\n",
    "    ax=ax\n",
    ")\n",
    "\n",
    "# Format x-axis labels\n",
    "plt.gca().xaxis.set_major_formatter(ticker.FuncFormatter(lambda x, _: f'{x:.1f}'))\n",
    "ax.set_ylabel('Number of Transactions') \n",
    "plt.title('Distribution of Average Transaction Size by Scam Flag')\n",
    "plt.xlabel('Average Transaction Size in ETH (log scale)')\n",
    "plt.show()"
   ]
  },
  {
   "cell_type": "markdown",
   "id": "fc641e66",
   "metadata": {},
   "source": [
    "### Summary of Distribution of Average Transaction Sizes\n",
    "\n",
    "This histogram shows the distribution of average transaction sizes per address in ETH (log scale). \n",
    "\n",
    "- The x-axis represents the average transaction size.\n",
    "- The y-axis shows the number of addresses in each bin.\n",
    "\n",
    "We observe that most addresses have average transaction sizes between 0.01 and 100 ETH, with some outliers on both the small and large ends. Differences between scam and non-scam addresses are highlighted by the color hues.\n",
    "\n",
    "---\n",
    "\n",
    "<br><br>"
   ]
  },
  {
   "cell_type": "markdown",
   "id": "1c47b97c",
   "metadata": {},
   "source": [
    "## Section 4: Transaction Frequency per Address\n",
    "* Are scams more or less active\n",
    "* What’s the distribution of transaction counts per address"
   ]
  },
  {
   "cell_type": "code",
   "execution_count": 28,
   "id": "88764bf9",
   "metadata": {},
   "outputs": [
    {
     "data": {
      "image/png": "[encoded data removed]",
      "text/plain": [
       "<Figure size 640x480 with 1 Axes>"
      ]
     },
     "metadata": {},
     "output_type": "display_data"
    }
   ],
   "source": [
    "sns.histplot(data=df, x='tx_count', hue='flag', bins=50, log_scale=True)\n",
    "plt.gca().xaxis.set_major_formatter(ticker.FuncFormatter(lambda x, _: f'{x:.0f}'))\n",
    "\n",
    "plt.title('Transaction Frequency by Scam Flag')\n",
    "plt.ylabel('Number of Addresses')\n",
    "plt.xlabel('Transaction Count (log scale)')\n",
    "plt.show()"
   ]
  },
  {
   "cell_type": "markdown",
   "id": "176593a0",
   "metadata": {},
   "source": [
    "### Summary Transaction Frequency by Scam Flag\n",
    "\n",
    "This plot shows how frequently addresses transact on Ethereum.\n",
    "\n",
    "- The x-axis shows the total transaction count per address (log scale).\n",
    "- The y-axis represents the number of addresses with that transaction count.\n",
    "\n",
    "This visualisation helps compare activity levels between scam and non-scam addresses."
   ]
  },
  {
   "cell_type": "code",
   "execution_count": 39,
   "id": "2aa66533",
   "metadata": {},
   "outputs": [],
   "source": [
    "df.to_csv('../Data/Features/feature_ethereum_data_with_ratios.csv', index=False)"
   ]
  }
 ],
 "metadata": {
  "kernelspec": {
   "display_name": ".venv",
   "language": "python",
   "name": "python3"
  },
  "language_info": {
   "codemirror_mode": {
    "name": "ipython",
    "version": 3
   },
   "file_extension": ".py",
   "mimetype": "text/x-python",
   "name": "python",
   "nbconvert_exporter": "python",
   "pygments_lexer": "ipython3",
   "version": "3.12.8"
  }
 },
 "nbformat": 4,
 "nbformat_minor": 5
}

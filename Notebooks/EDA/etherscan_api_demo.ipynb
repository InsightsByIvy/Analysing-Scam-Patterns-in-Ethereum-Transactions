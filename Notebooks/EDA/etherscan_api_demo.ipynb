{
 "cells": [
  {
   "cell_type": "markdown",
   "id": "2b9b815a",
   "metadata": {},
   "source": [
    "Exploring API technique for Data Analysis.\n",
    "Required libraries:"
   ]
  },
  {
   "cell_type": "code",
   "execution_count": null,
   "id": "a4375c6a",
   "metadata": {},
   "outputs": [],
   "source": [
    "import pandas as pd\n",
    "from etherscan import Etherscan\n",
    "from dotenv import load_dotenv\n",
    "import os\n",
    "from datetime import datetime, timedelta\n",
    "import requests"
   ]
  },
  {
   "cell_type": "markdown",
   "id": "daaea666",
   "metadata": {},
   "source": [
    "Load Etherscan API key from .env"
   ]
  },
  {
   "cell_type": "code",
   "execution_count": 39,
   "id": "ad44c601",
   "metadata": {},
   "outputs": [],
   "source": [
    "load_dotenv(dotenv_path=\".env\")\n",
    "api_key = os.environ.get(\"ETHERSCAN_API_KEY\")\n",
    "\n"
   ]
  },
  {
   "cell_type": "markdown",
   "id": "d62710de",
   "metadata": {},
   "source": [
    "Initial exploration: fetching Ethereum transactions via Etherscan API"
   ]
  },
  {
   "cell_type": "code",
   "execution_count": 40,
   "id": "7a3b11df",
   "metadata": {},
   "outputs": [],
   "source": [
    "eth = Etherscan(api_key)\n"
   ]
  },
  {
   "cell_type": "markdown",
   "id": "022ca142",
   "metadata": {},
   "source": [
    "Example: Fetch transactions for a given address (this address was flagged by Scam Sniffer and got labeleed as Phish/ Hack on Etherscan)"
   ]
  },
  {
   "cell_type": "code",
   "execution_count": null,
   "id": "09f66469",
   "metadata": {},
   "outputs": [],
   "source": [
    "address = \"0x3895c7e8c65c4ad1102e16689a9f83b56bc67c14\"\n",
    "\n",
    "# Fetch all normal transactions for the address\n",
    "transactions = eth.get_normal_txs_by_address(\n",
    "    address=address,\n",
    "    startblock=0,\n",
    "    endblock=99999999,\n",
    "    sort=\"asc\"\n",
    ")"
   ]
  },
  {
   "cell_type": "code",
   "execution_count": null,
   "id": "4c4e9407",
   "metadata": {},
   "outputs": [
    {
     "name": "stderr",
     "output_type": "stream",
     "text": [
      "/var/folders/81/b1tklwxd50n7ybfgm54mb0hm0000gn/T/ipykernel_22691/4118401102.py:8: FutureWarning: The behavior of 'to_datetime' with 'unit' when parsing strings is deprecated. In a future version, strings will be parsed as datetime strings, matching the behavior without a 'unit'. To retain the old behavior, explicitly cast ints or floats to numeric type before calling to_datetime.\n",
      "  df['timeStamp'] = pd.to_datetime(df['timeStamp'], unit='s')\n"
     ]
    }
   ],
   "source": [
    "#Load transaction into a DataFrame\n",
    "df = pd.DataFrame(transactions)\n",
    "\n",
    "#Cleaning up the data to usable format\n",
    "\n",
    "# Convert value to Ether\n",
    "df['value'] = df['value'].astype(float) / 1e18\n",
    "\n",
    "# Convert blockNumber to integer\n",
    "df['blockNumber'] = df['blockNumber'].astype(int)\n",
    "\n",
    "# Convert timestamp to datetime\n",
    "df['timeStamp'] = pd.to_datetime(df['timeStamp'], unit='s')"
   ]
  },
  {
   "cell_type": "markdown",
   "id": "ebfdcc45",
   "metadata": {},
   "source": [
    "Select columns that are relevant"
   ]
  },
  {
   "cell_type": "code",
   "execution_count": null,
   "id": "8c690371",
   "metadata": {},
   "outputs": [
    {
     "data": {
      "text/html": [
       "<div>\n",
       "<style scoped>\n",
       "    .dataframe tbody tr th:only-of-type {\n",
       "        vertical-align: middle;\n",
       "    }\n",
       "\n",
       "    .dataframe tbody tr th {\n",
       "        vertical-align: top;\n",
       "    }\n",
       "\n",
       "    .dataframe thead th {\n",
       "        text-align: right;\n",
       "    }\n",
       "</style>\n",
       "<table border=\"1\" class=\"dataframe\">\n",
       "  <thead>\n",
       "    <tr style=\"text-align: right;\">\n",
       "      <th></th>\n",
       "      <th>blockNumber</th>\n",
       "      <th>timeStamp</th>\n",
       "      <th>from</th>\n",
       "      <th>to</th>\n",
       "      <th>value</th>\n",
       "      <th>hash</th>\n",
       "    </tr>\n",
       "  </thead>\n",
       "  <tbody>\n",
       "    <tr>\n",
       "      <th>0</th>\n",
       "      <td>16672663</td>\n",
       "      <td>2023-02-20 22:14:59</td>\n",
       "      <td>0xf1da173228fcf015f43f3ea15abbb51f0d8f1123</td>\n",
       "      <td>0x3895c7e8c65c4ad1102e16689a9f83b56bc67c14</td>\n",
       "      <td>0.093008</td>\n",
       "      <td>0x9ddb2d4a61c3c9ba6b73d7228198208564e80e7055de...</td>\n",
       "    </tr>\n",
       "    <tr>\n",
       "      <th>1</th>\n",
       "      <td>16673501</td>\n",
       "      <td>2023-02-21 01:04:35</td>\n",
       "      <td>0x3895c7e8c65c4ad1102e16689a9f83b56bc67c14</td>\n",
       "      <td></td>\n",
       "      <td>0.000000</td>\n",
       "      <td>0x73d60992447f221505e6c362e74d7c6e24bfc3438326...</td>\n",
       "    </tr>\n",
       "    <tr>\n",
       "      <th>2</th>\n",
       "      <td>16673689</td>\n",
       "      <td>2023-02-21 01:42:47</td>\n",
       "      <td>0x3895c7e8c65c4ad1102e16689a9f83b56bc67c14</td>\n",
       "      <td></td>\n",
       "      <td>0.000000</td>\n",
       "      <td>0xfa12d513e7c158b2b76360aed150190f157b5006b821...</td>\n",
       "    </tr>\n",
       "    <tr>\n",
       "      <th>3</th>\n",
       "      <td>16673689</td>\n",
       "      <td>2023-02-21 01:42:47</td>\n",
       "      <td>0x3895c7e8c65c4ad1102e16689a9f83b56bc67c14</td>\n",
       "      <td></td>\n",
       "      <td>0.000000</td>\n",
       "      <td>0xf4214160cc3027f342935d896a67baa3d4987689eab1...</td>\n",
       "    </tr>\n",
       "    <tr>\n",
       "      <th>4</th>\n",
       "      <td>16680412</td>\n",
       "      <td>2023-02-22 00:23:23</td>\n",
       "      <td>0x3895c7e8c65c4ad1102e16689a9f83b56bc67c14</td>\n",
       "      <td>0xdac17f958d2ee523a2206206994597c13d831ec7</td>\n",
       "      <td>0.000000</td>\n",
       "      <td>0x11c8e1da654f4a37a6c4ab922b31845de33182ce93f7...</td>\n",
       "    </tr>\n",
       "  </tbody>\n",
       "</table>\n",
       "</div>"
      ],
      "text/plain": [
       "   blockNumber           timeStamp  \\\n",
       "0     16672663 2023-02-20 22:14:59   \n",
       "1     16673501 2023-02-21 01:04:35   \n",
       "2     16673689 2023-02-21 01:42:47   \n",
       "3     16673689 2023-02-21 01:42:47   \n",
       "4     16680412 2023-02-22 00:23:23   \n",
       "\n",
       "                                         from  \\\n",
       "0  0xf1da173228fcf015f43f3ea15abbb51f0d8f1123   \n",
       "1  0x3895c7e8c65c4ad1102e16689a9f83b56bc67c14   \n",
       "2  0x3895c7e8c65c4ad1102e16689a9f83b56bc67c14   \n",
       "3  0x3895c7e8c65c4ad1102e16689a9f83b56bc67c14   \n",
       "4  0x3895c7e8c65c4ad1102e16689a9f83b56bc67c14   \n",
       "\n",
       "                                           to     value  \\\n",
       "0  0x3895c7e8c65c4ad1102e16689a9f83b56bc67c14  0.093008   \n",
       "1                                              0.000000   \n",
       "2                                              0.000000   \n",
       "3                                              0.000000   \n",
       "4  0xdac17f958d2ee523a2206206994597c13d831ec7  0.000000   \n",
       "\n",
       "                                                hash  \n",
       "0  0x9ddb2d4a61c3c9ba6b73d7228198208564e80e7055de...  \n",
       "1  0x73d60992447f221505e6c362e74d7c6e24bfc3438326...  \n",
       "2  0xfa12d513e7c158b2b76360aed150190f157b5006b821...  \n",
       "3  0xf4214160cc3027f342935d896a67baa3d4987689eab1...  \n",
       "4  0x11c8e1da654f4a37a6c4ab922b31845de33182ce93f7...  "
      ]
     },
     "execution_count": 44,
     "metadata": {},
     "output_type": "execute_result"
    }
   ],
   "source": [
    "columns = ['blockNumber', 'timeStamp', 'from', 'to', 'value', 'hash']\n",
    "df_clean = df[columns]\n",
    "df_clean.head()"
   ]
  },
  {
   "cell_type": "markdown",
   "id": "5f5cab8b",
   "metadata": {},
   "source": [
    "Importing a test file that contains a list of scam addresses.\n",
    "To expand the analysis, I imported a blacklist of known scam addresses and checked which ones were active within the last 6 months:"
   ]
  },
  {
   "cell_type": "code",
   "execution_count": 57,
   "id": "9544436a",
   "metadata": {},
   "outputs": [],
   "source": [
    "with open('../Data/Raw/master_blacklist_set.txt', 'r') as b:\n",
    "    scam_addresses = [line.strip() for line in b if line.strip()]"
   ]
  },
  {
   "cell_type": "markdown",
   "id": "6c846d46",
   "metadata": {},
   "source": [
    "Checking active addresses in the past 6 months"
   ]
  },
  {
   "cell_type": "code",
   "execution_count": null,
   "id": "537aa635",
   "metadata": {},
   "outputs": [],
   "source": [
    "\n",
    "ETHERSCAN_API_KEY = 'apy_key'  \n",
    "recent_cutoff = datetime.now() - timedelta(days=180)  # Last 6 months\n",
    "\n",
    "def is_address_active(address):\n",
    "    url = f'https://api.etherscan.io/api?module=account&action=txlist&address={address}&sort=desc&apikey={ETHERSCAN_API_KEY}'\n",
    "    resp = requests.get(url).json()\n",
    "    if resp['status'] != '1':\n",
    "        return False  # No transactions or error\n",
    "    for tx in resp['result']:\n",
    "        tx_time = datetime.fromtimestamp(int(tx['timeStamp']))\n",
    "        if tx_time > recent_cutoff:\n",
    "            return True\n",
    "    return False"
   ]
  },
  {
   "cell_type": "code",
   "execution_count": null,
   "id": "cb0b80c5",
   "metadata": {},
   "outputs": [
    {
     "name": "stdout",
     "output_type": "stream",
     "text": [
      "Active scam addresses: []\n"
     ]
    }
   ],
   "source": [
    "# Sample test\n",
    "\n",
    "sample_addresses = scam_addresses[:20]\n",
    "active_addresses = [addr for addr in sample_addresses if is_address_active(addr)]\n",
    "print(f\"Active scam addresses: {active_addresses}\")"
   ]
  },
  {
   "cell_type": "markdown",
   "id": "a74848be",
   "metadata": {},
   "source": [
    "### Conclusion:\n",
    "\n",
    "In this notebook, I explored using the Etherscan API to retrieve Ethereum wallet activity, including testing a known scam address list for recent activity.\n",
    "\n",
    "However, due to API rate limits and the high number of inactive addresses, this method was not scalable for deeper behavioral analysis. \n",
    "\n",
    "While technically effective, this method surfaced several issues:\n",
    "- Many known scam addresses were inactive (no recent transactions)\n",
    "- This made the approach unsuitable for identifying network-wide scam patterns.\n",
    "\n",
    "In the next notebook, I pivot using a Kaggle dataset with full Ethereum transaction history to support more robust scam pattern detection."
   ]
  },
  {
   "cell_type": "markdown",
   "id": "bcda980d",
   "metadata": {},
   "source": []
  }
 ],
 "metadata": {
  "kernelspec": {
   "display_name": ".venv",
   "language": "python",
   "name": "python3"
  },
  "language_info": {
   "codemirror_mode": {
    "name": "ipython",
    "version": 3
   },
   "file_extension": ".py",
   "mimetype": "text/x-python",
   "name": "python",
   "nbconvert_exporter": "python",
   "pygments_lexer": "ipython3",
   "version": "3.12.8"
  }
 },
 "nbformat": 4,
 "nbformat_minor": 5
}

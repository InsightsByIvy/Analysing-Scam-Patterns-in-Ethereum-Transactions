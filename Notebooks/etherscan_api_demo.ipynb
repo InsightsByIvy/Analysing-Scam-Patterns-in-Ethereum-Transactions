{
 "cells": [
  {
   "cell_type": "code",
   "execution_count": 21,
   "id": "a4375c6a",
   "metadata": {},
   "outputs": [],
   "source": [
    "import pandas as pd\n",
    "from etherscan import Etherscan\n",
    "from dotenv import load_dotenv\n",
    "import os"
   ]
  },
  {
   "cell_type": "markdown",
   "id": "daaea666",
   "metadata": {},
   "source": [
    "Load API key from .env"
   ]
  },
  {
   "cell_type": "code",
   "execution_count": 22,
   "id": "ad44c601",
   "metadata": {},
   "outputs": [],
   "source": [
    "load_dotenv(dotenv_path=\".env\")\n",
    "api_key = os.environ.get(\"ETHERSCAN_API_KEY\")\n",
    "\n"
   ]
  },
  {
   "cell_type": "markdown",
   "id": "d62710de",
   "metadata": {},
   "source": [
    "Initialize Etherscan client"
   ]
  },
  {
   "cell_type": "code",
   "execution_count": 23,
   "id": "7a3b11df",
   "metadata": {},
   "outputs": [],
   "source": [
    "eth = Etherscan(api_key)\n"
   ]
  },
  {
   "cell_type": "markdown",
   "id": "022ca142",
   "metadata": {},
   "source": [
    "Example: Fetch transactions for a given address"
   ]
  },
  {
   "cell_type": "code",
   "execution_count": 31,
   "id": "09f66469",
   "metadata": {},
   "outputs": [],
   "source": [
    "address = \"0x3895c7e8c65c4ad1102e16689a9f83b56bc67c14\"\n",
    "transactions = eth.get_normal_txs_by_address(\n",
    "    address=address,\n",
    "    startblock=0,\n",
    "    endblock=99999999,\n",
    "    sort=\"asc\"\n",
    ")\n",
    "\n"
   ]
  },
  {
   "cell_type": "code",
   "execution_count": 30,
   "id": "00133f42",
   "metadata": {},
   "outputs": [],
   "source": [
    "import pandas as pd\n",
    "df = pd.DataFrame(transactions)\n"
   ]
  },
  {
   "cell_type": "markdown",
   "id": "56ba8371",
   "metadata": {},
   "source": [
    "Cleaning up the data"
   ]
  },
  {
   "cell_type": "code",
   "execution_count": 28,
   "id": "4c4e9407",
   "metadata": {},
   "outputs": [
    {
     "name": "stderr",
     "output_type": "stream",
     "text": [
      "/var/folders/81/b1tklwxd50n7ybfgm54mb0hm0000gn/T/ipykernel_22691/4118401102.py:8: FutureWarning: The behavior of 'to_datetime' with 'unit' when parsing strings is deprecated. In a future version, strings will be parsed as datetime strings, matching the behavior without a 'unit'. To retain the old behavior, explicitly cast ints or floats to numeric type before calling to_datetime.\n",
      "  df['timeStamp'] = pd.to_datetime(df['timeStamp'], unit='s')\n"
     ]
    }
   ],
   "source": [
    "# Convert value to Ether\n",
    "df['value'] = df['value'].astype(float) / 1e18\n",
    "\n",
    "# Convert blockNumber to integer\n",
    "df['blockNumber'] = df['blockNumber'].astype(int)\n",
    "\n",
    "# Convert timestamp to datetime\n",
    "df['timeStamp'] = pd.to_datetime(df['timeStamp'], unit='s')"
   ]
  },
  {
   "cell_type": "markdown",
   "id": "ebfdcc45",
   "metadata": {},
   "source": [
    "Select columns that are relevant"
   ]
  },
  {
   "cell_type": "code",
   "execution_count": null,
   "id": "8c690371",
   "metadata": {},
   "outputs": [
    {
     "data": {
      "text/html": [
       "<div>\n",
       "<style scoped>\n",
       "    .dataframe tbody tr th:only-of-type {\n",
       "        vertical-align: middle;\n",
       "    }\n",
       "\n",
       "    .dataframe tbody tr th {\n",
       "        vertical-align: top;\n",
       "    }\n",
       "\n",
       "    .dataframe thead th {\n",
       "        text-align: right;\n",
       "    }\n",
       "</style>\n",
       "<table border=\"1\" class=\"dataframe\">\n",
       "  <thead>\n",
       "    <tr style=\"text-align: right;\">\n",
       "      <th></th>\n",
       "      <th>blockNumber</th>\n",
       "      <th>timeStamp</th>\n",
       "      <th>from</th>\n",
       "      <th>to</th>\n",
       "      <th>value</th>\n",
       "      <th>hash</th>\n",
       "    </tr>\n",
       "  </thead>\n",
       "  <tbody>\n",
       "    <tr>\n",
       "      <th>0</th>\n",
       "      <td>16672663</td>\n",
       "      <td>2023-02-20 22:14:59</td>\n",
       "      <td>0xf1da173228fcf015f43f3ea15abbb51f0d8f1123</td>\n",
       "      <td>0x3895c7e8c65c4ad1102e16689a9f83b56bc67c14</td>\n",
       "      <td>0.093008</td>\n",
       "      <td>0x9ddb2d4a61c3c9ba6b73d7228198208564e80e7055de...</td>\n",
       "    </tr>\n",
       "    <tr>\n",
       "      <th>1</th>\n",
       "      <td>16673501</td>\n",
       "      <td>2023-02-21 01:04:35</td>\n",
       "      <td>0x3895c7e8c65c4ad1102e16689a9f83b56bc67c14</td>\n",
       "      <td></td>\n",
       "      <td>0.000000</td>\n",
       "      <td>0x73d60992447f221505e6c362e74d7c6e24bfc3438326...</td>\n",
       "    </tr>\n",
       "    <tr>\n",
       "      <th>2</th>\n",
       "      <td>16673689</td>\n",
       "      <td>2023-02-21 01:42:47</td>\n",
       "      <td>0x3895c7e8c65c4ad1102e16689a9f83b56bc67c14</td>\n",
       "      <td></td>\n",
       "      <td>0.000000</td>\n",
       "      <td>0xfa12d513e7c158b2b76360aed150190f157b5006b821...</td>\n",
       "    </tr>\n",
       "    <tr>\n",
       "      <th>3</th>\n",
       "      <td>16673689</td>\n",
       "      <td>2023-02-21 01:42:47</td>\n",
       "      <td>0x3895c7e8c65c4ad1102e16689a9f83b56bc67c14</td>\n",
       "      <td></td>\n",
       "      <td>0.000000</td>\n",
       "      <td>0xf4214160cc3027f342935d896a67baa3d4987689eab1...</td>\n",
       "    </tr>\n",
       "    <tr>\n",
       "      <th>4</th>\n",
       "      <td>16680412</td>\n",
       "      <td>2023-02-22 00:23:23</td>\n",
       "      <td>0x3895c7e8c65c4ad1102e16689a9f83b56bc67c14</td>\n",
       "      <td>0xdac17f958d2ee523a2206206994597c13d831ec7</td>\n",
       "      <td>0.000000</td>\n",
       "      <td>0x11c8e1da654f4a37a6c4ab922b31845de33182ce93f7...</td>\n",
       "    </tr>\n",
       "  </tbody>\n",
       "</table>\n",
       "</div>"
      ],
      "text/plain": [
       "   blockNumber           timeStamp  \\\n",
       "0     16672663 2023-02-20 22:14:59   \n",
       "1     16673501 2023-02-21 01:04:35   \n",
       "2     16673689 2023-02-21 01:42:47   \n",
       "3     16673689 2023-02-21 01:42:47   \n",
       "4     16680412 2023-02-22 00:23:23   \n",
       "\n",
       "                                         from  \\\n",
       "0  0xf1da173228fcf015f43f3ea15abbb51f0d8f1123   \n",
       "1  0x3895c7e8c65c4ad1102e16689a9f83b56bc67c14   \n",
       "2  0x3895c7e8c65c4ad1102e16689a9f83b56bc67c14   \n",
       "3  0x3895c7e8c65c4ad1102e16689a9f83b56bc67c14   \n",
       "4  0x3895c7e8c65c4ad1102e16689a9f83b56bc67c14   \n",
       "\n",
       "                                           to     value  \\\n",
       "0  0x3895c7e8c65c4ad1102e16689a9f83b56bc67c14  0.093008   \n",
       "1                                              0.000000   \n",
       "2                                              0.000000   \n",
       "3                                              0.000000   \n",
       "4  0xdac17f958d2ee523a2206206994597c13d831ec7  0.000000   \n",
       "\n",
       "                                                hash  \n",
       "0  0x9ddb2d4a61c3c9ba6b73d7228198208564e80e7055de...  \n",
       "1  0x73d60992447f221505e6c362e74d7c6e24bfc3438326...  \n",
       "2  0xfa12d513e7c158b2b76360aed150190f157b5006b821...  \n",
       "3  0xf4214160cc3027f342935d896a67baa3d4987689eab1...  \n",
       "4  0x11c8e1da654f4a37a6c4ab922b31845de33182ce93f7...  "
      ]
     },
     "execution_count": 29,
     "metadata": {},
     "output_type": "execute_result"
    }
   ],
   "source": [
    "columns = ['blockNumber', 'timeStamp', 'from', 'to', 'value', 'hash']\n",
    "df_clean = df[columns]\n",
    "df_clean.head()\n"
   ]
  },
  {
   "cell_type": "code",
   "execution_count": 32,
   "id": "50b43209",
   "metadata": {},
   "outputs": [],
   "source": [
    "from tabulate import tabulate"
   ]
  },
  {
   "cell_type": "code",
   "execution_count": 33,
   "id": "b7b08679",
   "metadata": {},
   "outputs": [
    {
     "name": "stdout",
     "output_type": "stream",
     "text": [
      "|    |   blockNumber | timeStamp           | from                                       | to                                         |     value | hash                                                               |\n",
      "|----|---------------|---------------------|--------------------------------------------|--------------------------------------------|-----------|--------------------------------------------------------------------|\n",
      "|  0 |      16672663 | 2023-02-20 22:14:59 | 0xf1da173228fcf015f43f3ea15abbb51f0d8f1123 | 0x3895c7e8c65c4ad1102e16689a9f83b56bc67c14 | 0.0930077 | 0x9ddb2d4a61c3c9ba6b73d7228198208564e80e7055dee38bd77884482eedb02e |\n",
      "|  1 |      16673501 | 2023-02-21 01:04:35 | 0x3895c7e8c65c4ad1102e16689a9f83b56bc67c14 |                                            | 0         | 0x73d60992447f221505e6c362e74d7c6e24bfc3438326c883c4a590a3e46ec005 |\n",
      "|  2 |      16673689 | 2023-02-21 01:42:47 | 0x3895c7e8c65c4ad1102e16689a9f83b56bc67c14 |                                            | 0         | 0xfa12d513e7c158b2b76360aed150190f157b5006b8215242f71718f79b651b2c |\n",
      "|  3 |      16673689 | 2023-02-21 01:42:47 | 0x3895c7e8c65c4ad1102e16689a9f83b56bc67c14 |                                            | 0         | 0xf4214160cc3027f342935d896a67baa3d4987689eab136dc60f3292453cdc3e6 |\n",
      "|  4 |      16680412 | 2023-02-22 00:23:23 | 0x3895c7e8c65c4ad1102e16689a9f83b56bc67c14 | 0xdac17f958d2ee523a2206206994597c13d831ec7 | 0         | 0x11c8e1da654f4a37a6c4ab922b31845de33182ce93f73dafcff55394a163a1bb |\n"
     ]
    }
   ],
   "source": [
    "# Show as markdown table (best for GitHub rendering)\n",
    "print(tabulate(df_clean.head(5), headers='keys', tablefmt='github'))"
   ]
  },
  {
   "cell_type": "code",
   "execution_count": 34,
   "id": "d29b4d3a",
   "metadata": {},
   "outputs": [],
   "source": [
    "with open(\"sample_table.md\", \"w\") as f:\n",
    "    f.write(tabulate(df_clean.head(10), headers='keys', tablefmt='github'))"
   ]
  }
 ],
 "metadata": {
  "kernelspec": {
   "display_name": ".venv",
   "language": "python",
   "name": "python3"
  },
  "language_info": {
   "codemirror_mode": {
    "name": "ipython",
    "version": 3
   },
   "file_extension": ".py",
   "mimetype": "text/x-python",
   "name": "python",
   "nbconvert_exporter": "python",
   "pygments_lexer": "ipython3",
   "version": "3.12.8"
  }
 },
 "nbformat": 4,
 "nbformat_minor": 5
}

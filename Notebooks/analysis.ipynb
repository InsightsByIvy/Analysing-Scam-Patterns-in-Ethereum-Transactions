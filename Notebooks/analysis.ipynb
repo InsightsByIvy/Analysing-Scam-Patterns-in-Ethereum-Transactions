{
 "cells": [
  {
   "cell_type": "markdown",
   "id": "57709e7a",
   "metadata": {},
   "source": [
    "## Section 1: Overview Metrics\n",
    " * How many unique addresses are in the dataset\n",
    " * What percentage are flagged as scams\n",
    " * How many total transactions are represented"
   ]
  },
  {
   "cell_type": "code",
   "execution_count": 1,
   "id": "88eeab60",
   "metadata": {},
   "outputs": [],
   "source": [
    "import pandas as pd\n",
    "import numpy as np"
   ]
  },
  {
   "cell_type": "code",
   "execution_count": 2,
   "id": "ef4c7bcd",
   "metadata": {},
   "outputs": [],
   "source": [
    "df = pd.read_csv('../Data/Features/feature_ethereum_data_with_ratios.csv')"
   ]
  },
  {
   "cell_type": "code",
   "execution_count": 3,
   "id": "1f521bb6",
   "metadata": {},
   "outputs": [
    {
     "name": "stdout",
     "output_type": "stream",
     "text": [
      "Number of unique addresses: 9816\n"
     ]
    }
   ],
   "source": [
    "num_addresses = df['address'].nunique()\n",
    "print(f\"Number of unique addresses: {num_addresses}\")\n",
    "\n"
   ]
  },
  {
   "cell_type": "code",
   "execution_count": 7,
   "id": "cebdc916",
   "metadata": {},
   "outputs": [
    {
     "name": "stdout",
     "output_type": "stream",
     "text": [
      "Number of scams: 2179\n",
      "Number of non-scams: 7637\n",
      "Percentage of scams: 22.20%\n"
     ]
    }
   ],
   "source": [
    "num_scams = df['flag'].sum()\n",
    "print(f\"Number of scams: {num_scams}\")\n",
    "num_non_scams = num_addresses - num_scams\n",
    "print(f\"Number of non-scams: {num_non_scams}\")\n",
    "scam_percentage = num_scams / num_addresses * 100\n",
    "print(f\"Percentage of scams: {scam_percentage:.2f}%\")"
   ]
  },
  {
   "cell_type": "markdown",
   "id": "4f0551d9",
   "metadata": {},
   "source": [
    "## Section 2: User Segmentation\n",
    " * What % of wallets are sender-only, receiver-only, or both\n",
    " * How does this differ between scam and non-scam addresses\n"
   ]
  },
  {
   "cell_type": "code",
   "execution_count": 9,
   "id": "3fd09734",
   "metadata": {},
   "outputs": [],
   "source": [
    "senders = set(df[df['sent_tnx'] > 0]['address'])\n",
    "receivers = set(df[df['received_tnx'] > 0]['address'])\n",
    "\n",
    "sender_only = senders - receivers\n",
    "receiver_only = receivers - senders\n",
    "both = senders & receivers\n",
    "\n",
    "segmentation = {\n",
    "    'Sender Only': len(sender_only),\n",
    "    'Receiver Only': len(receiver_only),\n",
    "    'Both': len(both)\n",
    "}"
   ]
  }
 ],
 "metadata": {
  "kernelspec": {
   "display_name": ".venv",
   "language": "python",
   "name": "python3"
  },
  "language_info": {
   "codemirror_mode": {
    "name": "ipython",
    "version": 3
   },
   "file_extension": ".py",
   "mimetype": "text/x-python",
   "name": "python",
   "nbconvert_exporter": "python",
   "pygments_lexer": "ipython3",
   "version": "3.12.8"
  }
 },
 "nbformat": 4,
 "nbformat_minor": 5
}

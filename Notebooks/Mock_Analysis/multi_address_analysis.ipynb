{
 "cells": [
  {
   "cell_type": "code",
   "execution_count": 91,
   "id": "b96253a2",
   "metadata": {},
   "outputs": [],
   "source": [
    "from IPython.core.interactiveshell import InteractiveShell\n",
    "InteractiveShell.ast_node_interactivity = \"all\"\n"
   ]
  },
  {
   "cell_type": "code",
   "execution_count": 92,
   "id": "38d86db6",
   "metadata": {},
   "outputs": [],
   "source": [
    "import requests\n",
    "import pandas as pd\n",
    "import matplotlib.pyplot as plt\n",
    "from datetime import datetime, timezone\n",
    "import os\n",
    "from dotenv import load_dotenv\n"
   ]
  },
  {
   "cell_type": "code",
   "execution_count": 93,
   "id": "cbe86a6d",
   "metadata": {},
   "outputs": [
    {
     "data": {
      "text/plain": [
       "True"
      ]
     },
     "execution_count": 93,
     "metadata": {},
     "output_type": "execute_result"
    }
   ],
   "source": [
    "load_dotenv()\n",
    "api_key = os.getenv(\"ETHERSCAN_API_KEY\")"
   ]
  },
  {
   "cell_type": "code",
   "execution_count": 94,
   "id": "7f4c5ebf",
   "metadata": {},
   "outputs": [],
   "source": [
    "# Example addresses\n",
    "addresses = [\n",
    "    \"0x7568160091792b16066A06a115704b059814e9cc\",\n",
    "    \"0xF58daEC3ABEe8b51F832b6bA3A06Fab2Aad3E0A8\",\n",
    "    \"0xfd78EE919681417d192449715b2594ab58f5D002\",\n",
    "    \"0xAbb07822F471773Ff00b9444308ceEB7cf0dACa7\",\n",
    "    \"0xa42303EE9B2eC1DB7E2a86Ed6C24AF7E49E9e8B9\"\n",
    "]"
   ]
  },
  {
   "cell_type": "code",
   "execution_count": 95,
   "id": "3e7ea89f",
   "metadata": {},
   "outputs": [],
   "source": [
    "# Known mixer/bridge contract addresses\n",
    "known_services = {\n",
    "    'TornadoCash': [\n",
    "        '0x12D66f87A04A9E220743712cE6d9bB1B5616B8Fc',\n",
    "        '0x47CE0C6eD5B0Ce3d3A51fdb1C52DC66a7c3c2936',\n",
    "        '0x5efda50f22d34F262c29268506C5Fa42cB56A1Ce',\n",
    "        '0x0836222F2B2B24A3F36f98668Ed8F0B38D1a872f',\n",
    "        '0x169AD27A470D064DEDE56a2D3ff727986b15D52B',\n",
    "    ],\n",
    "    'Tokenlon': ['0x4a14347083b80e5216ca31350a2d21702ac3650d'],\n",
    "    'UniswapV2': ['0x7a250d5630B4cF539739dF2C5dAcb4c659F2488D'],\n",
    "    '1inch': ['0x1111111254fb6c44bac0bed2854e76f90643097d'],\n",
    "}"
   ]
  },
  {
   "cell_type": "code",
   "execution_count": 96,
   "id": "fc5fbc1c",
   "metadata": {},
   "outputs": [],
   "source": [
    "# Transaction fetching functions\n",
    "def fetch_erc20_transactions(address):\n",
    "    url = f\"https://api.etherscan.io/api\"\n",
    "    params = {\n",
    "        'module': 'account',\n",
    "        'action': 'tokentx',\n",
    "        'address': address,\n",
    "        'startblock': 0,\n",
    "        'endblock': 99999999,\n",
    "        'sort': 'asc',\n",
    "        'apikey': api_key\n",
    "    }\n",
    "    response = requests.get(url, params=params)\n",
    "    data = response.json()\n",
    "    if data['status'] == '1':\n",
    "        df = pd.DataFrame(data['result'])\n",
    "        df['token_value'] = df['value'].astype(float) / (10 ** df['tokenDecimal'].astype(int))\n",
    "        df['time'] = pd.to_datetime(df['timeStamp'].astype(int), unit='s', utc=True)\n",
    "        return df\n",
    "    return pd.DataFrame()\n"
   ]
  },
  {
   "cell_type": "code",
   "execution_count": 97,
   "id": "49d606c7",
   "metadata": {},
   "outputs": [],
   "source": [
    "def fetch_normal_transactions(address):\n",
    "    url = f\"https://api.etherscan.io/api\"\n",
    "    params = {\n",
    "        'module': 'account',\n",
    "        'action': 'txlist',\n",
    "        'address': address,\n",
    "        'startblock': 0,\n",
    "        'endblock': 99999999,\n",
    "        'sort': 'asc',\n",
    "        'apikey': api_key\n",
    "    }\n",
    "    response = requests.get(url, params=params)\n",
    "    data = response.json()\n",
    "    if data['status'] == '1':\n",
    "        df = pd.DataFrame(data['result'])\n",
    "        df['value_eth'] = df['value'].astype(float) / 1e18\n",
    "        df['time'] = pd.to_datetime(df['timeStamp'].astype(int), unit='s', utc=True)\n",
    "        return df\n",
    "    return pd.DataFrame()"
   ]
  },
  {
   "cell_type": "code",
   "execution_count": 98,
   "id": "cd1c8156",
   "metadata": {},
   "outputs": [],
   "source": [
    "def analyze_address(address):\n",
    "    output = f\"\\n--- Analyzing address: {address} ---\\n\"\n",
    "\n",
    "    # Fetch transactions\n",
    "    erc20 = fetch_erc20_transactions(address)\n",
    "    normal = fetch_normal_transactions(address)\n",
    "\n",
    "    # Add lowercase columns\n",
    "    erc20['to_lower'] = erc20['to'].str.lower()\n",
    "    erc20['from_lower'] = erc20['from'].str.lower()\n",
    "    normal['to_lower'] = normal['to'].str.lower()\n",
    "    normal['from_lower'] = normal['from'].str.lower()\n",
    "\n",
    "    # Store plot data for later\n",
    "    plots_to_show = []\n",
    "\n",
    "    # Textual analysis\n",
    "    for name, contract_list in known_services.items():\n",
    "        addr_set = [a.lower() for a in contract_list]\n",
    "\n",
    "        # ERC-20 txs\n",
    "        erc20_hits = erc20[erc20['to_lower'].isin(addr_set) | erc20['from_lower'].isin(addr_set)]\n",
    "        erc20_count = len(erc20_hits)\n",
    "        erc20_volume = erc20_hits['token_value'].sum()\n",
    "\n",
    "        # ETH txs\n",
    "        normal_hits = normal[normal['to_lower'].isin(addr_set) | normal['from_lower'].isin(addr_set)]\n",
    "        normal_count = len(normal_hits)\n",
    "        normal_volume = normal_hits['value_eth'].sum()\n",
    "\n",
    "        # Print analysis\n",
    "        print(f\"{name}:\")\n",
    "        print(f\"  ERC-20 txs: {erc20_count} | Token volume: {erc20_volume:.2f}\")\n",
    "        print(f\"  ETH txs  : {normal_count} | ETH volume: {normal_volume:.4f}\")\n",
    "\n",
    "        # Save dataframes for plotting\n",
    "        if not erc20_hits.empty:\n",
    "            plots_to_show.append(('ERC-20', name, address, erc20_hits.copy()))\n",
    "\n",
    "        if not normal_hits.empty:\n",
    "            plots_to_show.append(('ETH', name, address, normal_hits.copy()))\n",
    "\n",
    "    return plots_to_show  # Only return plots, keep printing here\n",
    "\n",
    "\n"
   ]
  },
  {
   "cell_type": "code",
   "execution_count": 100,
   "id": "d46dbdb2",
   "metadata": {},
   "outputs": [],
   "source": [
    "from collections import defaultdict\n",
    "\n",
    "# Group charts by address\n",
    "charts_by_address = defaultdict(list)\n",
    "\n",
    "for tx_type, name, addr, df in all_plots:\n",
    "    charts_by_address[addr].append((tx_type, name, df))\n",
    "\n",
    "# Plot charts grouped under each address\n",
    "for addr, charts in charts_by_address.items():\n",
    "    print(f\"\\n📊 Charts for address: {addr}\")\n",
    "    for tx_type, service, df in charts:\n",
    "        plt.figure(figsize=(10, 4))\n",
    "        df.set_index('time').resample('D').size().plot(\n",
    "            title=f\"{addr} - {service} {tx_type} txs\"\n",
    "        )\n",
    "        plt.ylabel(f\"{tx_type} Tx Count\")\n",
    "        plt.tight_layout()\n",
    "        plt.show()\n"
   ]
  }
 ],
 "metadata": {
  "kernelspec": {
   "display_name": ".venv",
   "language": "python",
   "name": "python3"
  },
  "language_info": {
   "codemirror_mode": {
    "name": "ipython",
    "version": 3
   },
   "file_extension": ".py",
   "mimetype": "text/x-python",
   "name": "python",
   "nbconvert_exporter": "python",
   "pygments_lexer": "ipython3",
   "version": "3.12.8"
  }
 },
 "nbformat": 4,
 "nbformat_minor": 5
}
